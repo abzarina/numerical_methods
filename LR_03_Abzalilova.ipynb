{
 "cells": [
  {
   "cell_type": "code",
   "execution_count": 26,
   "metadata": {},
   "outputs": [],
   "source": [
    "import numpy as np"
   ]
  },
  {
   "attachments": {},
   "cell_type": "markdown",
   "metadata": {},
   "source": [
    "## МЕТОД ПРОСТЫХ ИТЕРАЦИЙ\n",
    "\n",
    "M = [[9., 2., 3., 14.],\n",
    "     [4., 9., 2., 15.],\n",
    "     [2., 1., 9., 12.]]\n",
    "\n",
    "ans = [1, 1, 1]"
   ]
  },
  {
   "cell_type": "code",
   "execution_count": 27,
   "metadata": {},
   "outputs": [
    {
     "name": "stdout",
     "output_type": "stream",
     "text": [
      "[0.99998266 0.99997922 0.99998773]\n"
     ]
    }
   ],
   "source": [
    "A = np.array([ [9., 2., 3.],\n",
    "               [4., 9., 2.],\n",
    "               [2., 1., 9.] ])\n",
    "b = np.array([14., 15., 12.])\n",
    "\n",
    "\n",
    "X = np.empty(shape=A.shape, dtype=float)\n",
    "for i in range(len(A)):\n",
    "    b[i] /= A[i][i]\n",
    "    for j in range(len(A[i])):\n",
    "        if i == j:\n",
    "            X[i][j] = 0\n",
    "        else:\n",
    "            X[i][j] = (-A[i][j] / A[i][i])\n",
    "\n",
    "x0 = np.array(b)\n",
    "x1 = X @ x0 + b\n",
    "\n",
    "while max(abs(x1 - x0)) >= 1e-4:\n",
    "    x0 = x1\n",
    "    x1 = X @ x1 + b\n",
    "\n",
    "print(x1)"
   ]
  },
  {
   "attachments": {},
   "cell_type": "markdown",
   "metadata": {},
   "source": [
    "## МЕТОД ЗЕЙДЕЛЯ\n",
    "\n",
    "M = [[9., 2., 3., 14.],\n",
    "     [4., 9., 2., 15.],\n",
    "     [2., 1., 9., 12.]]\n",
    "\n",
    "ans = [1, 1, 1]\n"
   ]
  },
  {
   "cell_type": "code",
   "execution_count": 28,
   "metadata": {},
   "outputs": [
    {
     "name": "stdout",
     "output_type": "stream",
     "text": [
      "[0.99999331 1.00000493 1.00000094]\n"
     ]
    }
   ],
   "source": [
    "A = np.array([ [9., 2., 3.],\n",
    "               [4., 9., 2.],\n",
    "               [2., 1., 9.] ])\n",
    "b = np.array([14., 15., 12.])\n",
    "\n",
    "X = np.empty(shape = A.shape, dtype = float)\n",
    "\n",
    "\n",
    "for i in range(len(A)):\n",
    "    b[i] /= A[i][i]\n",
    "    for j in range(len(A[i])):\n",
    "        if i == j:\n",
    "            X[i][j] = 0\n",
    "        else: \n",
    "            X[i][j] = (-A[i][j] / A[i][i])\n",
    "x0 = np.array(b)\n",
    "x1 = X @ x0 + b\n",
    "while max(abs(x1 - x0)) >= 1e-4:\n",
    "    x2 = []\n",
    "    for i in range(len(X)):\n",
    "        x2.append(X[i] @ (np.hstack((x2, x1[i:]))) + b[i])\n",
    "    x0, x1 = x1, np.array(x2)\n",
    "\n",
    "print(x1)"
   ]
  },
  {
   "attachments": {},
   "cell_type": "markdown",
   "metadata": {},
   "source": [
    "## МЕТОД ЕДИНИЧНОГО ДЕЛЕНИЯ\n",
    "\n",
    "M = [[3, 2, 1, 18],\n",
    "     [4, 1, 2, 17],\n",
    "     [5, 2, 7, 34]]\n",
    "\n",
    "\n",
    "ans = [3, 2, 1]"
   ]
  },
  {
   "cell_type": "code",
   "execution_count": 29,
   "metadata": {},
   "outputs": [],
   "source": [
    "def fit(raw: int, matrix: list, ans: list):\n",
    "    ind = raw\n",
    "    mx = abs(matrix[raw][raw])\n",
    "    for i in range(raw, len(matrix)):\n",
    "        if abs(matrix[i][raw]) > mx:\n",
    "            mx = abs(matrix[i][raw])\n",
    "            ind = i \n",
    "    matrix[raw], matrix[ind] = matrix[ind], matrix[raw]\n",
    "    ans[raw], ans[ind] = ans[ind], ans[raw]\n",
    "    return matrix, ans"
   ]
  },
  {
   "cell_type": "code",
   "execution_count": 32,
   "metadata": {},
   "outputs": [
    {
     "name": "stdout",
     "output_type": "stream",
     "text": [
      "[2.999999999999999, 2.0000000000000004, 1.0000000000000007]\n"
     ]
    }
   ],
   "source": [
    "A = [[3, 2, 1],\n",
    "     [4, 4, 2],\n",
    "     [5, 2, 7]]\n",
    "b = [14, 22, 26]\n",
    "\n",
    "for i in range(len(A)):\n",
    "    A, b = fit(i, A, b)\n",
    "\n",
    "    for j in range(i + 1, len(A[i])):\n",
    "        A[i][j] /= A[i][i]\n",
    "    b[i] /= A[i][i]\n",
    "    A[i][i] = 1\n",
    "\n",
    "\n",
    "    for next in range(i + 1, len(A)):\n",
    "        for col in range(i + 1, len(A[next])):\n",
    "            A[next][col] -= A[next][i] * A[i][col]\n",
    "        b[next] -= A[next][i] * b[i]\n",
    "\n",
    "    for next in range(i + 1, len(A)):\n",
    "        A[next][i] = 0\n",
    "    \n",
    "answ = [b[-1]]\n",
    "for row in range(len(A) - 2, -1, -1):\n",
    "    for i in range(len(answ)):\n",
    "        A[row][len(A[row]) - i - 1] *= answ[i]\n",
    "    answ.append(b[row] - sum(A[row][row + 1:]))\n",
    "print(answ[::-1])"
   ]
  },
  {
   "attachments": {},
   "cell_type": "markdown",
   "metadata": {},
   "source": [
    "## МЕТОД ГАУССА\n",
    "\n",
    "M = [[3, 2, 1, 18],\n",
    "     [4, 1, 2, 17],\n",
    "     [5, 2, 7, 34]]\n",
    "\n",
    "\n",
    "ans = [3, 2, 1]"
   ]
  },
  {
   "cell_type": "code",
   "execution_count": 33,
   "metadata": {},
   "outputs": [
    {
     "name": "stdout",
     "output_type": "stream",
     "text": [
      "[3.0000000000000013, 1.9999999999999991, 0.9999999999999991]\n"
     ]
    }
   ],
   "source": [
    "A = [[3, 2, 1],\n",
    "     [4, 4, 2],\n",
    "     [5, 2, 7]]\n",
    "b = [14, 22, 26]\n",
    "\n",
    "for i in range(len(A)):\n",
    "\n",
    "    for j in range(i + 1, len(A[i])):\n",
    "        A[i][j] /= A[i][i]\n",
    "    b[i] /= A[i][i]\n",
    "    A[i][i] = 1\n",
    "\n",
    "\n",
    "    for next in range(i + 1, len(A)):\n",
    "        for col in range(i + 1, len(A[next])):\n",
    "            A[next][col] -= A[next][i] * A[i][col]\n",
    "        b[next] -= A[next][i] * b[i]\n",
    "\n",
    "    for next in range(i + 1, len(A)):\n",
    "        A[next][i] = 0\n",
    "\n",
    "    \n",
    "answ = [b[-1]]\n",
    "for row in range(len(a) - 2, -1, -1):\n",
    "    for i in range(len(answ)):\n",
    "        A[row][len(A[row]) - i - 1] *= answ[i]\n",
    "    answ.append(b[row] - sum(A[row][row + 1:]))\n",
    "print(answ[::-1])"
   ]
  }
 ],
 "metadata": {
  "kernelspec": {
   "display_name": "Python 3",
   "language": "python",
   "name": "python3"
  },
  "language_info": {
   "codemirror_mode": {
    "name": "ipython",
    "version": 3
   },
   "file_extension": ".py",
   "mimetype": "text/x-python",
   "name": "python",
   "nbconvert_exporter": "python",
   "pygments_lexer": "ipython3",
   "version": "3.10.11"
  },
  "orig_nbformat": 4
 },
 "nbformat": 4,
 "nbformat_minor": 2
}
