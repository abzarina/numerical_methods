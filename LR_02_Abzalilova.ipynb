{
 "cells": [
  {
   "cell_type": "code",
   "execution_count": 18,
   "metadata": {},
   "outputs": [],
   "source": [
    "def f(x, coefs):\n",
    "    ans = 0\n",
    "    power = 1\n",
    "    for i in range(len(y)):\n",
    "        ans += power*coefs[len(coefs) - 1 - i]\n",
    "        power *= x\n",
    "    return ans"
   ]
  },
  {
   "cell_type": "code",
   "execution_count": 19,
   "metadata": {},
   "outputs": [],
   "source": [
    "def diff(func):\n",
    "    new_func = []\n",
    "    for i in range(len(func)):\n",
    "        new_func.append(func[i] * (len(func) - i - 1))\n",
    "    new_func.pop()\n",
    "    return new_func"
   ]
  },
  {
   "attachments": {},
   "cell_type": "markdown",
   "metadata": {},
   "source": [
    "## Задание 1"
   ]
  },
  {
   "cell_type": "code",
   "execution_count": 11,
   "metadata": {},
   "outputs": [],
   "source": [
    "coefs = [1, 2, 1]"
   ]
  },
  {
   "cell_type": "code",
   "execution_count": 31,
   "metadata": {},
   "outputs": [],
   "source": [
    "\n",
    "def solve(coefs, x_0, max_iter):\n",
    "    x = x_0\n",
    "    for i in range(max_iter):\n",
    "        print(f(x_0, diff(coefs)))\n",
    "        x = x - f(x_0, coefs)/f(x_0, diff(coefs))\n",
    "        coefs = diff(coefs)\n",
    "    return x"
   ]
  },
  {
   "cell_type": "code",
   "execution_count": 32,
   "metadata": {},
   "outputs": [
    {
     "name": "stdout",
     "output_type": "stream",
     "text": [
      "0\n"
     ]
    },
    {
     "ename": "ZeroDivisionError",
     "evalue": "division by zero",
     "output_type": "error",
     "traceback": [
      "\u001b[0;31m---------------------------------------------------------------------------\u001b[0m",
      "\u001b[0;31mZeroDivisionError\u001b[0m                         Traceback (most recent call last)",
      "Cell \u001b[0;32mIn[32], line 1\u001b[0m\n\u001b[0;32m----> 1\u001b[0m solve(coefs, \u001b[39m2\u001b[39;49m, \u001b[39m2\u001b[39;49m)\n",
      "Cell \u001b[0;32mIn[31], line 5\u001b[0m, in \u001b[0;36msolve\u001b[0;34m(coefs, x_0, max_iter)\u001b[0m\n\u001b[1;32m      3\u001b[0m \u001b[39mfor\u001b[39;00m i \u001b[39min\u001b[39;00m \u001b[39mrange\u001b[39m(max_iter):\n\u001b[1;32m      4\u001b[0m     \u001b[39mprint\u001b[39m(f(x_0, diff(coefs)))\n\u001b[0;32m----> 5\u001b[0m     x \u001b[39m=\u001b[39m x \u001b[39m-\u001b[39m f(x_0, coefs)\u001b[39m/\u001b[39;49mf(x_0, diff(coefs))\n\u001b[1;32m      6\u001b[0m     coefs \u001b[39m=\u001b[39m diff(coefs)\n\u001b[1;32m      7\u001b[0m \u001b[39mreturn\u001b[39;00m x\n",
      "\u001b[0;31mZeroDivisionError\u001b[0m: division by zero"
     ]
    }
   ],
   "source": [
    "solve(coefs, 2, 2)"
   ]
  }
 ],
 "metadata": {
  "kernelspec": {
   "display_name": "Python 3",
   "language": "python",
   "name": "python3"
  },
  "language_info": {
   "codemirror_mode": {
    "name": "ipython",
    "version": 3
   },
   "file_extension": ".py",
   "mimetype": "text/x-python",
   "name": "python",
   "nbconvert_exporter": "python",
   "pygments_lexer": "ipython3",
   "version": "3.10.11"
  },
  "orig_nbformat": 4
 },
 "nbformat": 4,
 "nbformat_minor": 2
}
