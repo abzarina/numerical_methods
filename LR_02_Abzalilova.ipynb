{
 "cells": [
  {
   "cell_type": "code",
   "execution_count": 1,
   "metadata": {},
   "outputs": [],
   "source": [
    "def func(x):\n",
    "    return ((x - 3) ** 3) * (x - 2) * (x + 7)\n",
    "\n",
    "def func_derivative(x):\n",
    "    return 3 * ((x - 3) ** 2) * (x - 2) * (x + 7) + ((x - 3) ** 3) * (x + 7) + ((x - 3) ** 3) * (x - 2)"
   ]
  },
  {
   "attachments": {},
   "cell_type": "markdown",
   "metadata": {},
   "source": [
    "## Задание 1\n",
    "Метод Ньютона"
   ]
  },
  {
   "cell_type": "code",
   "execution_count": 2,
   "metadata": {},
   "outputs": [
    {
     "name": "stdout",
     "output_type": "stream",
     "text": [
      "Найденные корни: {-7.0, 2.0, 3.0}\n"
     ]
    }
   ],
   "source": [
    "def newton(func, func_derivative, initial, e=1e-6, max_iter=100):\n",
    "    roots = set()\n",
    "    \n",
    "    for x0 in initial:\n",
    "        x = x0\n",
    "        iteration = 0\n",
    "\n",
    "        while abs(func(x)) > e and iteration < max_iter:\n",
    "            x = x - func(x) / func_derivative(x)\n",
    "            iteration += 1\n",
    "\n",
    "        if abs(func(x)) <= e:\n",
    "            roots.add(round(x,2))\n",
    "    \n",
    "    return roots\n",
    "\n",
    "\n",
    "initial = [-10.0, 0.0, 2.0, 4.0]\n",
    "\n",
    "all_roots = newton(func, func_derivative, initial)\n",
    "\n",
    "print(\"Найденные корни:\", all_roots)"
   ]
  },
  {
   "attachments": {},
   "cell_type": "markdown",
   "metadata": {},
   "source": [
    "## Задание 2\n",
    "Упрощенный метод Ньютона"
   ]
  },
  {
   "cell_type": "code",
   "execution_count": 3,
   "metadata": {},
   "outputs": [
    {
     "name": "stdout",
     "output_type": "stream",
     "text": [
      "Найденные корни: {2.0}\n"
     ]
    }
   ],
   "source": [
    "import random\n",
    "\n",
    "def simplified_newton_method(x0, e=1e-6, max_iter=1000):\n",
    "    iteration = 0\n",
    "    once_dir = func_derivative(x0)\n",
    "    while iteration < max_iter:\n",
    "        x1 = x0 - func(x0) / once_dir\n",
    "\n",
    "        if abs(x1 - x0) < e:\n",
    "            return x1\n",
    "        \n",
    "        x0 = x1 \n",
    "        iteration += 1\n",
    "\n",
    "    raise Exception(\"Упрощенный метод Ньютона не сошелся после максимального числа итераций.\")\n",
    "\n",
    "max_iterations = 10000\n",
    "roots = set()\n",
    "while True:\n",
    "    initial = random.uniform(-5, 5)\n",
    "    \n",
    "    try:\n",
    "        root = simplified_newton_method(initial,  max_iter=max_iterations)\n",
    "        roots.add(round(root,2))\n",
    "    except Exception as e:\n",
    "        break\n",
    "\n",
    "print(\"Найденные корни:\", roots)"
   ]
  },
  {
   "attachments": {},
   "cell_type": "markdown",
   "metadata": {},
   "source": [
    "## Задание 3\n",
    "Метод Ньютона Бройдена"
   ]
  },
  {
   "cell_type": "code",
   "execution_count": 4,
   "metadata": {},
   "outputs": [
    {
     "name": "stdout",
     "output_type": "stream",
     "text": [
      "Найденные корни: {-7.0, 2.0, 3.0}\n"
     ]
    }
   ],
   "source": [
    "def newton_broyden_method(func, func_derivative, x0, c=0.5, e=1e-6, max_iterations=100):\n",
    "    x = x0\n",
    "    iteration = 0\n",
    "    while iteration < max_iterations:\n",
    "        x_next = x - c * func(x) / func_derivative(x)\n",
    "        if abs(func(x_next)) < e:\n",
    "            return x_next\n",
    "        x = x_next\n",
    "        iteration += 1\n",
    "\n",
    "x0 = -10\n",
    "roots = set()\n",
    "for _ in range(100):\n",
    "    x0 = random.uniform(-10, 10)\n",
    "    try:\n",
    "        root = newton_broyden_method(func, func_derivative, x0)\n",
    "        roots.add(round(root,2))\n",
    "    except Exception as e:\n",
    "        break\n",
    "\n",
    "\n",
    "print(\"Найденные корни:\", roots)"
   ]
  },
  {
   "attachments": {},
   "cell_type": "markdown",
   "metadata": {},
   "source": [
    "## Задание 4\n",
    "Метод секущих"
   ]
  },
  {
   "cell_type": "code",
   "execution_count": 5,
   "metadata": {},
   "outputs": [],
   "source": [
    "def init_approx_deriv(x0, q, func):\n",
    "    return (func(x0) - func(x0-q))/q\n",
    "\n",
    "def k_approx_deriv(xk, xk_0, func):\n",
    "    return (func(xk) - func(xk_0))/(xk - xk_0 + 1e-3)"
   ]
  },
  {
   "cell_type": "code",
   "execution_count": 6,
   "metadata": {},
   "outputs": [
    {
     "name": "stdout",
     "output_type": "stream",
     "text": [
      "Найденные корни: {-7.0, 2.0, 3.0}\n"
     ]
    }
   ],
   "source": [
    "def find_roots(func, q=1e-6, x0=-10, e=1e-6):\n",
    "    a = func(x0)\n",
    "    start_x1 = x0 - a/(init_approx_deriv(x0, q, func))\n",
    "    roots = set()\n",
    "    while x0 <= 10:\n",
    "        x1 = start_x1 - func(start_x1)/k_approx_deriv(start_x1, x0, func)\n",
    "        if abs(x1 - start_x1) < e:\n",
    "            roots.add(round(x1,2))\n",
    "        x0 = start_x1\n",
    "        start_x1 = x1\n",
    "    return roots\n",
    "\n",
    "found_roots = find_roots(func)\n",
    "print(\"Найденные корни:\", found_roots)"
   ]
  }
 ],
 "metadata": {
  "kernelspec": {
   "display_name": "Python 3",
   "language": "python",
   "name": "python3"
  },
  "language_info": {
   "codemirror_mode": {
    "name": "ipython",
    "version": 3
   },
   "file_extension": ".py",
   "mimetype": "text/x-python",
   "name": "python",
   "nbconvert_exporter": "python",
   "pygments_lexer": "ipython3",
   "version": "3.7.9"
  },
  "orig_nbformat": 4
 },
 "nbformat": 4,
 "nbformat_minor": 2
}
