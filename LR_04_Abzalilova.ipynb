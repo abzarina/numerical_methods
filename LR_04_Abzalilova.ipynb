{
 "cells": [
  {
   "cell_type": "code",
   "execution_count": 1,
   "metadata": {},
   "outputs": [],
   "source": [
    "import numpy as np"
   ]
  },
  {
   "attachments": {},
   "cell_type": "markdown",
   "metadata": {},
   "source": [
    "## МЕТОД ПРОСТЫХ ИТЕРАЦИЙ\n"
   ]
  },
  {
   "cell_type": "code",
   "execution_count": 27,
   "metadata": {},
   "outputs": [
    {
     "name": "stdout",
     "output_type": "stream",
     "text": [
      "Собственное число: 4.000000000000001\n",
      "Собственный вектор: [ 9. -2.  1.]\n"
     ]
    }
   ],
   "source": [
    "A = np.array([ [5., 6., 3.],\n",
    "               [-1., 0., 1.],\n",
    "               [1., 2., -1.] ])\n",
    "x = np.array([1, 1, 1])\n",
    "\n",
    "max_iter = 100\n",
    "\n",
    "for i in range(max_iter):\n",
    "    x_new = np.dot(A, x)\n",
    "    x_new_norm = np.linalg.norm(x_new)\n",
    "    x_new = x_new / x_new_norm\n",
    "    lambda_new = np.dot(np.dot(x_new.T, A), x_new) / np.dot(x_new.T, x_new)\n",
    "    x = x_new\n",
    "for i in range(len(x_new)):\n",
    "    x_new[i] = x_new[i]/x_new[-1]\n",
    "print(\"Собственное число:\", lambda_new)\n",
    "print(\"Собственный вектор:\", x_new)\n"
   ]
  },
  {
   "attachments": {},
   "cell_type": "markdown",
   "metadata": {},
   "source": [
    "## МЕТОД ВРАЩЕНИЯ"
   ]
  },
  {
   "cell_type": "code",
   "execution_count": 60,
   "metadata": {},
   "outputs": [
    {
     "name": "stdout",
     "output_type": "stream",
     "text": [
      "Собственные числа: [3. 1.]\n",
      "Собственные векторы:\n",
      "[0.70710678 0.70710678]\n",
      "[-0.70710678  0.70710678]\n"
     ]
    }
   ],
   "source": [
    "A = np.array([ [2., 1.],\n",
    "               [1., 2.]])\n",
    "epsilon = 1e-6\n",
    "max_iter = 1000\n",
    "n = A.shape[0]\n",
    "Q = np.eye(n)\n",
    "for i in range(max_iter):\n",
    "    a_max = np.abs(A[np.triu_indices(n, k=1)]).max()\n",
    "    i_max, j_max = np.where(np.abs(A) == a_max)\n",
    "    i_max, j_max = i_max[0], j_max[0]\n",
    "    theta = 0.5 * np.arctan2(2 * A[i_max, j_max], A[i_max, i_max] - A[j_max, j_max])\n",
    "    c, s = np.cos(theta), np.sin(theta)\n",
    "    G = np.eye(n)\n",
    "    G[i_max, i_max], G[j_max, j_max] = c, c\n",
    "    G[i_max, j_max], G[j_max, i_max] = -s, s\n",
    "    A = G.T @ A @ G\n",
    "    Q = Q @ G\n",
    "\n",
    "print(\"Собственные числа:\", np.diag(A))\n",
    "print(\"Собственные векторы:\")\n",
    "for i in range(n):\n",
    "    print(Q[:, i])"
   ]
  }
 ],
 "metadata": {
  "kernelspec": {
   "display_name": "Python 3",
   "language": "python",
   "name": "python3"
  },
  "language_info": {
   "codemirror_mode": {
    "name": "ipython",
    "version": 3
   },
   "file_extension": ".py",
   "mimetype": "text/x-python",
   "name": "python",
   "nbconvert_exporter": "python",
   "pygments_lexer": "ipython3",
   "version": "3.10.11"
  },
  "orig_nbformat": 4
 },
 "nbformat": 4,
 "nbformat_minor": 2
}
