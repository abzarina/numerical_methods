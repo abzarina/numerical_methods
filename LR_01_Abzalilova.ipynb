{
 "cells": [
  {
   "attachments": {},
   "cell_type": "markdown",
   "metadata": {},
   "source": [
    "## Задание 1"
   ]
  },
  {
   "cell_type": "code",
   "execution_count": 12,
   "metadata": {},
   "outputs": [
    {
     "name": "stdout",
     "output_type": "stream",
     "text": [
      "2.0\n"
     ]
    }
   ],
   "source": [
    "def f(x):\n",
    "    #Заданная функция\n",
    "    return (x-2)*(x-3)**2*(x-7)\n",
    "\n",
    "#Принимает на вход стартовое приближение, погрешность, максимальное количество итераций и функцию\n",
    "def dih(left, right, eps, max_iter, func):\n",
    "    iter = 0\n",
    "    if (func(left) * func(right) > 0):\n",
    "        #При неверном стартовом приближении возвращает None\n",
    "        return None\n",
    "    elif (func(left) * func(right) == 0):\n",
    "        if (abs(func(left) - 0) < eps):\n",
    "            return left\n",
    "        elif (abs(func(right) - 0) < eps):\n",
    "            return right\n",
    "    else:\n",
    "        while (abs(left - right) > eps and iter < max_iter):\n",
    "            mid = (right + left)/2\n",
    "            if (func(left)*func(mid) < 0):\n",
    "                right = mid\n",
    "            elif (func(mid) * func(right) < 0):\n",
    "                left = mid\n",
    "            elif (func(mid) == 0): \n",
    "                return mid\n",
    "            iter += 1\n",
    "        return mid\n",
    "\n",
    "\n",
    "print(dih(0, 4, 0.01, 20, f))\n"
   ]
  },
  {
   "attachments": {},
   "cell_type": "markdown",
   "metadata": {},
   "source": [
    "## Задание 2\n",
    "\n",
    "\\begin{gather}\n",
    "x = \\sqrt(a)\n",
    "\\end{gather}"
   ]
  },
  {
   "cell_type": "code",
   "execution_count": 20,
   "metadata": {},
   "outputs": [
    {
     "name": "stdout",
     "output_type": "stream",
     "text": [
      "Список проверяемых значений [1, 3, 5, 9, 144, 34]\n",
      "1.0\n",
      "1.732\n",
      "2.236\n",
      "3.0\n",
      "12.0\n",
      "5.831\n"
     ]
    }
   ],
   "source": [
    "def solve(a, x_0, eps, max_iter):\n",
    "    def phi(x):\n",
    "        #Функция ф, которая возвращает значение x\n",
    "        return a/(2*x) + x/2\n",
    "    iter = 0\n",
    "    x_1 = phi(x_0)\n",
    "    x_2 = phi(x_1)\n",
    "\n",
    "    while (abs((x_2 - x_1)/(1 - (x_2 - x_1)/(x_1 - x_0))) >= eps and iter < max_iter):\n",
    "        x_0, x_1, x_2, iter = x_1, x_2, phi(x_2), iter + 1\n",
    "    return round(x_2, 3)\n",
    "\n",
    "\n",
    "a_list = [1, 3, 5, 9, 144, 34]\n",
    "print(f'Список проверяемых значений {a_list}')\n",
    "for a in a_list:\n",
    "    print(solve(a, a/2, 0.01, 20))\n"
   ]
  }
 ],
 "metadata": {
  "kernelspec": {
   "display_name": "Python 3",
   "language": "python",
   "name": "python3"
  },
  "language_info": {
   "codemirror_mode": {
    "name": "ipython",
    "version": 3
   },
   "file_extension": ".py",
   "mimetype": "text/x-python",
   "name": "python",
   "nbconvert_exporter": "python",
   "pygments_lexer": "ipython3",
   "version": "3.10.11"
  },
  "orig_nbformat": 4
 },
 "nbformat": 4,
 "nbformat_minor": 2
}
